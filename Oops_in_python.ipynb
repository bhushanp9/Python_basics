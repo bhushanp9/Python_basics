{
  "nbformat": 4,
  "nbformat_minor": 0,
  "metadata": {
    "colab": {
      "provenance": [],
      "authorship_tag": "ABX9TyOmdVTKqL8sgVInbQg2Ppq2",
      "include_colab_link": true
    },
    "kernelspec": {
      "name": "python3",
      "display_name": "Python 3"
    },
    "language_info": {
      "name": "python"
    }
  },
  "cells": [
    {
      "cell_type": "markdown",
      "metadata": {
        "id": "view-in-github",
        "colab_type": "text"
      },
      "source": [
        "<a href=\"https://colab.research.google.com/github/bhushanp9/Python_basics/blob/main/Oops_in_python.ipynb\" target=\"_parent\"><img src=\"https://colab.research.google.com/assets/colab-badge.svg\" alt=\"Open In Colab\"/></a>"
      ]
    },
    {
      "cell_type": "markdown",
      "source": [
        "# Using Oops concept"
      ],
      "metadata": {
        "id": "xkMW716EaGjq"
      }
    },
    {
      "cell_type": "markdown",
      "source": [
        "Class and Objects\n"
      ],
      "metadata": {
        "id": "cq2hpd8KhPy0"
      }
    },
    {
      "cell_type": "code",
      "metadata": {
        "colab": {
          "base_uri": "https://localhost:8080/"
        },
        "id": "ca5d3c31",
        "outputId": "c0323111-43c1-4683-b855-2ac3d80318c1"
      },
      "source": [
        "# Class and objects\n",
        "# class- blueprint or template\n",
        "\n",
        "class Student:\n",
        "\n",
        "# inside function of class is called method\n",
        "# __init__ method- constructor value initialize- fixed value\n",
        "# 'self' parameter - reference or connection build btwn class and object - fixed\n",
        "\n",
        " def __init__(self, name, grade, percentage, team): #-------> Method\n",
        "  self.name = name  #------->  attribute\n",
        "  self.grade = grade\n",
        "  self.percentage = percentage\n",
        "  self.team = team\n",
        "\n",
        "\n",
        " def student_details(self):\n",
        "  print(f\"{self.name} is in class {self.grade}, with {self.percentage}% and is in team {self.team}\")\n",
        "\n",
        "team1 = 'A'\n",
        "team2 = 'B'\n",
        "#object :- instance of class\n",
        "\n",
        "student1 = Student('Bhushan',11,97,team1) #-------> object\n",
        "student2 = Student('Rohit',12,34,team2)\n",
        "#print(student2.name, student2.grade)\n",
        "\n",
        "student1.student_details()\n",
        "student2.student_details()\n"
      ],
      "execution_count": null,
      "outputs": [
        {
          "output_type": "stream",
          "name": "stdout",
          "text": [
            "Bhushan is in class 11, with 97% and is in team A\n",
            "Rohit is in class 12, with 34% and is in team B\n"
          ]
        }
      ]
    },
    {
      "cell_type": "code",
      "source": [],
      "metadata": {
        "id": "WCEmv0ERYjd2"
      },
      "execution_count": null,
      "outputs": []
    },
    {
      "cell_type": "markdown",
      "source": [
        "# 4 features in oops\n",
        "# Abstraction\n",
        "# Encapsulation\n",
        "# Inheritance\n",
        "# Polymorphism"
      ],
      "metadata": {
        "id": "Q2a7zO-thXFn"
      }
    },
    {
      "cell_type": "code",
      "source": [],
      "metadata": {
        "id": "c2CxsZLAhXOJ"
      },
      "execution_count": null,
      "outputs": []
    },
    {
      "cell_type": "markdown",
      "source": [
        "# Abstraction - hiding unnecessary details from users through method and class"
      ],
      "metadata": {
        "id": "CEW86S5FjRhW"
      }
    },
    {
      "cell_type": "code",
      "source": [
        "class Student:\n",
        "\n",
        "     def __init__(self, name, grade, percentage): #-------> Method\n",
        "        self.name = name  #------->  attribute\n",
        "        self.grade = grade\n",
        "        self.percentage = percentage\n",
        "\n",
        "     def student_details(self): #method abstraction\n",
        "      print(f\"{self.name} is in class {self.grade}, with {self.percentage}%\")  # hidden from users\n",
        "\n",
        "student1 = Student('Bhushan',11,99)\n",
        "student2 = Student('Ajay Devgan',87,93)\n",
        "\n",
        "student1.student_details()"
      ],
      "metadata": {
        "colab": {
          "base_uri": "https://localhost:8080/"
        },
        "id": "bhsZPZnpjnf4",
        "outputId": "ac825c34-df74-4c72-e212-9c9eed4dee6f"
      },
      "execution_count": null,
      "outputs": [
        {
          "output_type": "stream",
          "name": "stdout",
          "text": [
            "Bhushan is in class 11, with 99%\n"
          ]
        }
      ]
    },
    {
      "cell_type": "code",
      "source": [],
      "metadata": {
        "id": "_AphTw9EmY__"
      },
      "execution_count": null,
      "outputs": []
    },
    {
      "cell_type": "markdown",
      "source": [
        "# Method Encapsulation :- Restrict access to certain attributes or methods to protect data and enforce controlled access"
      ],
      "metadata": {
        "id": "f8qAnSEWkprY"
      }
    },
    {
      "cell_type": "code",
      "source": [],
      "metadata": {
        "id": "26TVpjtiossh"
      },
      "execution_count": null,
      "outputs": []
    },
    {
      "cell_type": "code",
      "source": [
        "class Student:\n",
        "\n",
        "     def __init__(self, name, grade, percentage): #-------> Method\n",
        "        self.name = name  #------->  attribute\n",
        "        self.grade = grade\n",
        "        self.__percentage = percentage   # using double underscore __ limits access\n",
        "\n",
        "     def get_percentage(self):         # to access the precentage you need to make a new method then we can access it.\n",
        "      return self.__percentage\n",
        "\n",
        "     def student_details(self):\n",
        "      print(f\"{self.name} is in class {self.grade}, with {self.percentage}%\")  # hidden from users\n",
        "\n",
        "student1 = Student('Bhushan',11,99)\n",
        "student2 = Student('Ajay Devgan',87,93)\n",
        "\n",
        "print(student1.get_percentage()) # this will allows you to show or access the percentage of prticular student or all student\n",
        "print(student1.__percentage)  # shows error using __percentage in attribute \"self.__percentage\""
      ],
      "metadata": {
        "colab": {
          "base_uri": "https://localhost:8080/"
        },
        "id": "YUAzCavzmzar",
        "outputId": "8d4ed301-2f7c-4281-8daf-e802667ac813"
      },
      "execution_count": null,
      "outputs": [
        {
          "output_type": "stream",
          "name": "stdout",
          "text": [
            "99\n"
          ]
        }
      ]
    },
    {
      "cell_type": "markdown",
      "source": [
        "# Method Inheritance :- allows one class (child) to reuse the property and methods of another class (parent)\n"
      ],
      "metadata": {
        "id": "8wXUEmctqaP3"
      }
    },
    {
      "cell_type": "code",
      "source": [
        "# Parent class\n",
        "class Student:\n",
        "\n",
        "     def __init__(self, name, grade, percentage): #-------> Method\n",
        "        self.name = name  #------->  attribute\n",
        "        self.grade = grade\n",
        "        self.percentage = percentage\n",
        "\n",
        "     def student_details(self):\n",
        "       print(f\"{self.name} is in class {self.grade}, with {self.percentage}%\")\n",
        "\n",
        "student1 = Student('Bhushan',11,99)\n",
        "student2 = Student('Ajay Devgan',87,93)\n",
        "\n",
        "\n",
        "\n",
        "# Child Class- beta\n",
        "class GraduateStudent(Student):\n",
        "  def __init__(self, name , grade, percentage, stream):\n",
        "    super().__init__(name, grade, percentage)    #super means getting detail from parent class or calling parent class init\n",
        "    self.Stream = stream\n",
        "\n",
        "  def student_details(self):\n",
        "    super().student_details()      # method inherit from parent class\n",
        "    print(f'stream is {self.Stream}')\n",
        "\n",
        "\n",
        "Grad_student1 = GraduateStudent('Shubham', 12 , 87, 'PCM')\n",
        "Grad_student1.student_details()"
      ],
      "metadata": {
        "id": "aveLpKzlqlOY",
        "colab": {
          "base_uri": "https://localhost:8080/"
        },
        "outputId": "d4754270-70b2-420b-a432-c345076e9dbe"
      },
      "execution_count": 11,
      "outputs": [
        {
          "output_type": "stream",
          "name": "stdout",
          "text": [
            "Shubham is in class 12, with 87%\n",
            "stream is PCM\n"
          ]
        }
      ]
    },
    {
      "cell_type": "code",
      "source": [],
      "metadata": {
        "id": "53JF1fXbJPXV"
      },
      "execution_count": null,
      "outputs": []
    },
    {
      "cell_type": "markdown",
      "source": [
        "# Polymorphism :-  allows methods in different classes to have same name but different behaviour"
      ],
      "metadata": {
        "id": "5g4MDD3XJPqm"
      }
    },
    {
      "cell_type": "code",
      "source": [
        "class Student:\n",
        "\n",
        "     def __init__(self, name, grade, percentage): #-------> Method\n",
        "        self.name = name  #------->  attribute\n",
        "        self.grade = grade\n",
        "        self.percentage = percentage\n",
        "\n",
        "     def student_details(self):\n",
        "       print(f\"{self.name} is in class {self.grade}, with {self.percentage}%\")\n",
        "\n",
        "student1 = Student('Bhushan',11,99)\n",
        "student2 = Student('Ajay Devgan',87,93)\n",
        "\n",
        "\n",
        "# Child Class- beta\n",
        "class GraduateStudent(Student):\n",
        "  def __init__(self, name , grade, percentage, stream):\n",
        "    super().__init__(name, grade, percentage)    #super means getting detail from parent class or calling parent class init\n",
        "    self.Stream = stream\n",
        "\n",
        "  def student_details(self):\n",
        "    print(f'{self.name} is in class {self.grade}, with {self.percentage}% and from stream is {self.Stream}')\n",
        "\n",
        "# object - Student class\n",
        "student1 = Student('Bhushan',11,99)\n",
        "\n",
        "# object - GraduateStudent class\n",
        "Grad_student1 = GraduateStudent('Shubham', 12 , 87, 'PCM')\n",
        "\n",
        "student1.student_details()\n",
        "Grad_student1.student_details()"
      ],
      "metadata": {
        "colab": {
          "base_uri": "https://localhost:8080/"
        },
        "id": "F25Ql6X8EB-9",
        "outputId": "2e38da49-3e85-45aa-8e77-e9a7b3c9a26f"
      },
      "execution_count": 13,
      "outputs": [
        {
          "output_type": "stream",
          "name": "stdout",
          "text": [
            "Bhushan is in class 11, with 99%\n",
            "Shubham is in class 12, with 87% and from stream is PCM\n"
          ]
        }
      ]
    },
    {
      "cell_type": "code",
      "source": [],
      "metadata": {
        "id": "uunKJcpnGnDO"
      },
      "execution_count": null,
      "outputs": []
    }
  ]
}