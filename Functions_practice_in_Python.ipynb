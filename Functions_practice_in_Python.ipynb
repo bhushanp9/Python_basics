{
  "nbformat": 4,
  "nbformat_minor": 0,
  "metadata": {
    "colab": {
      "provenance": [],
      "authorship_tag": "ABX9TyOSjk+7vfIiCx6ohe1l+jW5",
      "include_colab_link": true
    },
    "kernelspec": {
      "name": "python3",
      "display_name": "Python 3"
    },
    "language_info": {
      "name": "python"
    }
  },
  "cells": [
    {
      "cell_type": "markdown",
      "metadata": {
        "id": "view-in-github",
        "colab_type": "text"
      },
      "source": [
        "<a href=\"https://colab.research.google.com/github/bhushanp9/Python_basics/blob/main/Functions_practice_in_Python.ipynb\" target=\"_parent\"><img src=\"https://colab.research.google.com/assets/colab-badge.svg\" alt=\"Open In Colab\"/></a>"
      ]
    },
    {
      "cell_type": "markdown",
      "source": [
        "# Functions"
      ],
      "metadata": {
        "id": "WLJaX7-jfEQ9"
      }
    },
    {
      "cell_type": "markdown",
      "source": [
        "# 2 types of function are\n",
        "# 1) Built-in library function:\n",
        "# 2) User-defined functiom:"
      ],
      "metadata": {
        "id": "4qkv8n74ftbb"
      }
    },
    {
      "cell_type": "markdown",
      "source": [
        "# syntax\n",
        "\n"
      ],
      "metadata": {
        "id": "73iUdTW0ft-T"
      }
    },
    {
      "cell_type": "code",
      "source": [
        "# syntax\n",
        "def my_function():\n",
        "  print(\"My name is Bhushan\")\n",
        "\n",
        "my_function()"
      ],
      "metadata": {
        "colab": {
          "base_uri": "https://localhost:8080/"
        },
        "id": "Ro64bnOUfuRz",
        "outputId": "f362a1e3-ec64-4809-8a4a-876e8d9586d1"
      },
      "execution_count": null,
      "outputs": [
        {
          "output_type": "stream",
          "name": "stdout",
          "text": [
            "My name is Bhushan\n"
          ]
        }
      ]
    },
    {
      "cell_type": "code",
      "source": [
        "# Example 1\n",
        "\n",
        "#creating of definig the function\n",
        "def greetings():\n",
        "  print(\"welcome to python tutorial by bhushan phule\")\n",
        "\n",
        "#use or call the function\n",
        "greetings()"
      ],
      "metadata": {
        "colab": {
          "base_uri": "https://localhost:8080/"
        },
        "id": "YxvzLpqnfuiW",
        "outputId": "ff595ea6-a5f7-4392-b178-d1fe326701bb"
      },
      "execution_count": null,
      "outputs": [
        {
          "output_type": "stream",
          "name": "stdout",
          "text": [
            "welcome to python tutorial by bhushan phule\n"
          ]
        }
      ]
    },
    {
      "cell_type": "code",
      "source": [
        "# Function with parameters\n",
        "#Example 2\n",
        "def add2numbers(a,b):\n",
        "  result= a+b\n",
        "  print(\"The sume is:\",result)\n",
        "\n",
        "#calling this function with arguments\n",
        "add2numbers(5,3)"
      ],
      "metadata": {
        "colab": {
          "base_uri": "https://localhost:8080/"
        },
        "id": "eF3CA01Bh95D",
        "outputId": "07f71fd2-937f-49af-a72c-086829d8c829"
      },
      "execution_count": null,
      "outputs": [
        {
          "output_type": "stream",
          "name": "stdout",
          "text": [
            "The sume is: 8\n"
          ]
        }
      ]
    },
    {
      "cell_type": "code",
      "source": [
        "def greetings(a,b):\n",
        "  result = a*b\n",
        "  print(\"the multiplication is:\",result)\n",
        "\n",
        "greetings(10,100)\n"
      ],
      "metadata": {
        "colab": {
          "base_uri": "https://localhost:8080/"
        },
        "id": "tI-pTqILiaMD",
        "outputId": "5593d8ef-c086-4218-9394-1dd76dc9b5b4"
      },
      "execution_count": 5,
      "outputs": [
        {
          "output_type": "stream",
          "name": "stdout",
          "text": [
            "the multiplication is: 1000\n"
          ]
        }
      ]
    },
    {
      "cell_type": "code",
      "source": [
        "greetings(a=10,b=20)"
      ],
      "metadata": {
        "id": "Av5rpMpdmF9X",
        "colab": {
          "base_uri": "https://localhost:8080/"
        },
        "outputId": "7f91f1de-d522-4399-c85f-870a922b36c6"
      },
      "execution_count": 6,
      "outputs": [
        {
          "output_type": "stream",
          "name": "stdout",
          "text": [
            "the multiplication is: 200\n"
          ]
        }
      ]
    },
    {
      "cell_type": "code",
      "source": [
        "def threenumbers(a,b,c):\n",
        "  result=a+b*c-a+b\n",
        "  print(\"the total answer is:-\",result)\n",
        "threenumbers(2,4,5)"
      ],
      "metadata": {
        "colab": {
          "base_uri": "https://localhost:8080/"
        },
        "id": "ljh4NYvGL34A",
        "outputId": "ae27f6ff-113b-4dfe-9046-519c87ad50f8"
      },
      "execution_count": 7,
      "outputs": [
        {
          "output_type": "stream",
          "name": "stdout",
          "text": [
            "the total answer is:- 24\n"
          ]
        }
      ]
    },
    {
      "cell_type": "markdown",
      "source": [
        "# The return statement\n",
        "# Return statment kya krta hai:- wo wapas krta hai jaha pe aapne function ko bulaya wo waha pe wapis krta hai , when return is executed, the function stop execution after that."
      ],
      "metadata": {
        "id": "Qe-zApgQMYZB"
      }
    },
    {
      "cell_type": "code",
      "source": [
        "# Return kyu use krte hai?\n",
        "# answer:-"
      ],
      "metadata": {
        "id": "dQbhLTpnNOsT"
      },
      "execution_count": null,
      "outputs": []
    },
    {
      "cell_type": "code",
      "source": [
        "def add(a,b):\n",
        "  return a+b\n",
        "\n",
        "result = add(3,5)\n",
        "print(\"the answer is\",result)\n",
        "print(\"with return:-\",type(tem_f))"
      ],
      "metadata": {
        "colab": {
          "base_uri": "https://localhost:8080/"
        },
        "id": "mjrzDYezNAsj",
        "outputId": "0a920021-b051-4fc8-94e9-541580e52742"
      },
      "execution_count": 18,
      "outputs": [
        {
          "output_type": "stream",
          "name": "stdout",
          "text": [
            "the answer is 8\n",
            "with return:- <class 'float'>\n"
          ]
        }
      ]
    },
    {
      "cell_type": "code",
      "source": [],
      "metadata": {
        "id": "6YEarPFNNEbd"
      },
      "execution_count": 10,
      "outputs": []
    },
    {
      "cell_type": "code",
      "source": [
        "def add2num(a,b):\n",
        "  return a+b\n",
        "  #return a-b\n",
        "\n",
        "sum2num = add2num(10,1)\n",
        "print(sum2num)"
      ],
      "metadata": {
        "colab": {
          "base_uri": "https://localhost:8080/"
        },
        "id": "3cP3rNFwNLF2",
        "outputId": "7ebf1fed-c755-412c-cd9e-d25f064b99f3"
      },
      "execution_count": 12,
      "outputs": [
        {
          "output_type": "stream",
          "name": "stdout",
          "text": [
            "11\n"
          ]
        }
      ]
    },
    {
      "cell_type": "code",
      "source": [
        "# function to convert celsius to Fahrenheit\n",
        "\n",
        "def celsius_to_fahrenheit(celsius):\n",
        "  fahrenheit = (celsius *9/5) + 32\n",
        "  return fahrenheit\n",
        "\n",
        "\n",
        "# call function\n",
        "tem_f = celsius_to_fahrenheit(25)\n",
        "print(tem_f)"
      ],
      "metadata": {
        "colab": {
          "base_uri": "https://localhost:8080/"
        },
        "id": "f8O-1l5AN5L6",
        "outputId": "77d38bb9-ecbb-4d0a-a441-44eb43cf438d"
      },
      "execution_count": 15,
      "outputs": [
        {
          "output_type": "stream",
          "name": "stdout",
          "text": [
            "77.0\n"
          ]
        }
      ]
    },
    {
      "cell_type": "code",
      "source": [
        "def ctf(c):\n",
        "  f = (c*9/5)+32\n",
        "  return f\n",
        "\n",
        "tem_f = ctf(25)\n",
        "print(tem_f)"
      ],
      "metadata": {
        "colab": {
          "base_uri": "https://localhost:8080/"
        },
        "id": "9Kmx8lzjO791",
        "outputId": "22a7d8a4-4792-4b43-941a-2aaf1f3c4a5a"
      },
      "execution_count": 16,
      "outputs": [
        {
          "output_type": "stream",
          "name": "stdout",
          "text": [
            "77.0\n"
          ]
        }
      ]
    },
    {
      "cell_type": "code",
      "source": [
        "# without return statment\n",
        "def celsius_to_fahrenheit(celsius):\n",
        "  fahrenheit = (celsius *9/5) + 32\n",
        "  print(fahrenheit)\n",
        "\n",
        "# call the function\n",
        "celsius_to_fahrenheit(50)\n",
        "print(\"without return:-\",type(tem_f))"
      ],
      "metadata": {
        "colab": {
          "base_uri": "https://localhost:8080/"
        },
        "id": "9sxW87-APLhW",
        "outputId": "ceb012cf-23d4-49ba-b727-2090a7ba5a28"
      },
      "execution_count": 19,
      "outputs": [
        {
          "output_type": "stream",
          "name": "stdout",
          "text": [
            "122.0\n",
            "without return:- <class 'float'>\n"
          ]
        }
      ]
    },
    {
      "cell_type": "code",
      "source": [],
      "metadata": {
        "id": "s2-yC9imPgEy"
      },
      "execution_count": null,
      "outputs": []
    },
    {
      "cell_type": "markdown",
      "source": [
        "# The pass statement\n",
        "# The pass statement is a placeholder in a function or loop. it does nothing and is used when you need to write code that will me added later or to define an empty function"
      ],
      "metadata": {
        "id": "VEOjGVX7RGFj"
      }
    },
    {
      "cell_type": "code",
      "source": [
        "def myfunction():\n",
        "  pass        # this does nothing for function"
      ],
      "metadata": {
        "id": "8LoZPfmeRW99"
      },
      "execution_count": 22,
      "outputs": []
    },
    {
      "cell_type": "code",
      "source": [
        "def kuchbhi():\n",
        "               # <------------------ agar yaha kuch nai likha bas function bana k chod diya toh ye function bura maan jayga or error dega , tabh yaha pass word dalna hai\n",
        "print(\"hello bhushan\")"
      ],
      "metadata": {
        "colab": {
          "base_uri": "https://localhost:8080/",
          "height": 110
        },
        "id": "ZKwq7aynRcD5",
        "outputId": "e8d48c8b-9e1f-4b24-f1be-1bb48858051c"
      },
      "execution_count": 24,
      "outputs": [
        {
          "output_type": "error",
          "ename": "IndentationError",
          "evalue": "expected an indented block after function definition on line 1 (ipython-input-756690274.py, line 3)",
          "traceback": [
            "\u001b[0;36m  File \u001b[0;32m\"/tmp/ipython-input-756690274.py\"\u001b[0;36m, line \u001b[0;32m3\u001b[0m\n\u001b[0;31m    print(\"hello bhushan\")\u001b[0m\n\u001b[0m    ^\u001b[0m\n\u001b[0;31mIndentationError\u001b[0m\u001b[0;31m:\u001b[0m expected an indented block after function definition on line 1\n"
          ]
        }
      ]
    },
    {
      "cell_type": "code",
      "source": [
        "def kuchbhi():\n",
        "  pass\n",
        "\n",
        "print(\"hello world\")"
      ],
      "metadata": {
        "colab": {
          "base_uri": "https://localhost:8080/"
        },
        "id": "pweKsBh4R3iI",
        "outputId": "ef13327b-8cab-49ab-c77e-0535cbd0b351"
      },
      "execution_count": 26,
      "outputs": [
        {
          "output_type": "stream",
          "name": "stdout",
          "text": [
            "hello world\n"
          ]
        }
      ]
    },
    {
      "cell_type": "markdown",
      "source": [
        "# python program using function for creating calculator that can perform at least five different mathematical operations such as addition, subtraction, multiplication, division and average ."
      ],
      "metadata": {
        "id": "E0nul5e-SPBK"
      }
    },
    {
      "cell_type": "code",
      "source": [
        "def calculator(a,b):\n",
        "  addition = a+b\n",
        "  subtraction = a-b\n",
        "  multiplication = a*b\n",
        "  division = a/b\n",
        "  average = (a+b)/2\n",
        "\n",
        "  return addition,subtraction,multiplication,division,average\n",
        "\n",
        "result = calculator(20,10)\n",
        "print(f\"the total answers are:- {result}\")"
      ],
      "metadata": {
        "colab": {
          "base_uri": "https://localhost:8080/"
        },
        "id": "dGPnK-PmS1IF",
        "outputId": "a0f963fb-753a-462b-fc6c-3568b824caa1"
      },
      "execution_count": 32,
      "outputs": [
        {
          "output_type": "stream",
          "name": "stdout",
          "text": [
            "the total answers are:- (30, 10, 200, 2.0, 15.0)\n"
          ]
        }
      ]
    },
    {
      "cell_type": "code",
      "source": [],
      "metadata": {
        "id": "RY2eOBPZTqEn"
      },
      "execution_count": null,
      "outputs": []
    }
  ]
}